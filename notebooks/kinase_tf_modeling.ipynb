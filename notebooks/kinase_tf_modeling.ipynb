{
 "cells": [
  {
   "cell_type": "markdown",
   "source": [
    "# Effect of Phosphorylation on Transcription Factors in *Mycobacterium tuberculosis*"
   ],
   "metadata": {
    "collapsed": false,
    "pycharm": {
     "name": "#%% md\n"
    }
   }
  },
  {
   "cell_type": "code",
   "execution_count": 1,
   "outputs": [],
   "source": [
    "# Core Library Imports\n",
    "import os\n",
    "import json\n",
    "import warnings\n",
    "\n",
    "# External Library Imports\n",
    "import matplotlib.pyplot as plt\n",
    "import networkx as nx\n",
    "import numpy as np\n",
    "import optuna\n",
    "import pandas as pd\n",
    "import seaborn as sb\n",
    "import sklearn.model_selection\n",
    "from sklearn.metrics import mean_squared_error, mean_absolute_error, median_absolute_error, r2_score\n",
    "from sklearn.metrics import accuracy_score, precision_score, recall_score, f1_score, balanced_accuracy_score\n",
    "from sklearn.metrics import roc_auc_score\n",
    "\n",
    "# Local Imports\n",
    "import mycokinaseseq.kinase_tf_model\n",
    "import mycokinaseseq.utils\n",
    "import mycokinaseseq.list_helper as lh"
   ],
   "metadata": {
    "collapsed": false,
    "pycharm": {
     "name": "#%%\n"
    }
   }
  },
  {
   "cell_type": "code",
   "execution_count": 2,
   "outputs": [],
   "source": [
    "# Global variables to determine some features of running this notebook\n",
    "OPT_HYPERPARAMETERS = False"
   ],
   "metadata": {
    "collapsed": false,
    "pycharm": {
     "name": "#%%\n"
    }
   }
  },
  {
   "cell_type": "markdown",
   "source": [
    "## Create Target Dictionaries\n",
    "The first step is to create dictionaries which represent which TFs, and Kinases target which genes"
   ],
   "metadata": {
    "collapsed": false,
    "pycharm": {
     "name": "#%% md\n"
    }
   }
  },
  {
   "cell_type": "code",
   "execution_count": 3,
   "outputs": [],
   "source": [
    "# Read in the Transcription Factor Overexpression Data\n",
    "# noinspection PyTypeChecker\n",
    "tfoe_df = pd.read_excel(os.path.join(\"..\",\"data\", \"tfoe.searchable_130115.xlsx\"), sheet_name=\"TFOE.data\",\n",
    "                        header=0, usecols=\"A:HB\", skiprows=9, index_col=0,\n",
    "                        nrows=(4035-9))\n",
    "# Rename the index column to be \"gene\"\n",
    "tfoe_df.rename_axis('gene', inplace=True)\n",
    "# Find the transcription factor targets\n",
    "tf_targets_dict = {}\n",
    "for tf in  tfoe_df.columns:\n",
    "    tf_targets_dict[tf] = list(tfoe_df[np.abs(tfoe_df[tf] > 1)][tf].index)"
   ],
   "metadata": {
    "collapsed": false,
    "pycharm": {
     "name": "#%%\n"
    }
   }
  },
  {
   "cell_type": "code",
   "execution_count": 4,
   "outputs": [],
   "source": [
    "# Create a dictionary for converting Pkn.. to Rv..\n",
    "kinase_locus_dict = {\n",
    "    \"PknA\": \"Rv0015c\",\n",
    "    \"PknB\": \"Rv0014c\",\n",
    "    \"PknD\": \"Rv0931c\",\n",
    "    \"PknE\": \"Rv1743\",\n",
    "    \"PknF\": \"Rv1746\",\n",
    "    \"PknG\": \"Rv0410c\",\n",
    "    \"PknH\": \"Rv1266c\",\n",
    "    \"PknI\": \"Rv2914c\",\n",
    "    \"PknJ\": \"Rv2088\",\n",
    "    \"PknK\": \"Rv3080c\",\n",
    "    \"PknL\": \"Rv2176\"\n",
    "}\n",
    "\n",
    "# Create a dictionary for converting Rv.. to Pkn..\n",
    "locus_kinase_dict = {v:k for k,v in kinase_locus_dict.items()}\n",
    "\n",
    "# Create target information from the overexpression data\n",
    "# Read in the Kinase DF containing overexpression data\n",
    "in_file = os.path.join(\"..\",\"data\",\"kinase_psites.xlsx\")\n",
    "kinase_targets_dict = {}\n",
    "for kinase in [\"B\",\"D\",\"E\",\"F\",\"G\",\"H\",\"I\",\"J\",\"K\",\"L\"]:\n",
    "    df = pd.read_excel(in_file, sheet_name=f\"Pkn{kinase}\", header=0)\n",
    "    df.rename(columns={\"Rv Number\":\"gene\"}, inplace=True)\n",
    "    kinase_targets_dict[f\"Pkn{kinase}\"] = lh.get_unique_list(list(df[\"gene\"]))"
   ],
   "metadata": {
    "collapsed": false,
    "pycharm": {
     "name": "#%%\n"
    }
   }
  },
  {
   "cell_type": "markdown",
   "source": [
    "## Store Target Dictionaries\n",
    "Now that the target dictionaries have been created, they can be stored as json files"
   ],
   "metadata": {
    "collapsed": false,
    "pycharm": {
     "name": "#%% md\n"
    }
   }
  },
  {
   "cell_type": "code",
   "execution_count": 5,
   "outputs": [],
   "source": [
    "# Save the TF dict\n",
    "with open(os.path.join(\"..\", \"data\", \"dictionaries\", \"tf_targets_dict.json\"), \"w\") as f:\n",
    "    json.dump(tf_targets_dict, f)\n",
    "# Save the kinase dict\n",
    "with open(os.path.join(\"..\",\"data\",\"dictionaries\",\"kinase_targets_dict.json\"), \"w\") as f:\n",
    "    json.dump(kinase_targets_dict, f)\n",
    "# Save the kinase locus tag dictionaries as well\n",
    "with open(os.path.join(\"..\", \"data\", \"dictionaries\", \"kinase_locus_dict.json\"), \"w\") as f:\n",
    "    json.dump(kinase_locus_dict, f)\n",
    "with open(os.path.join(\"..\",\"data\",\"dictionaries\", \"locus_kinase_dict.json\"), \"w\") as f:\n",
    "    json.dump(locus_kinase_dict, f)"
   ],
   "metadata": {
    "collapsed": false,
    "pycharm": {
     "name": "#%%\n"
    }
   }
  },
  {
   "cell_type": "markdown",
   "source": [
    "## Data Preprocessing\n",
    "Now that the target information has been gathered, the compendia, and differential kinase expression RNA seq data can be processed"
   ],
   "metadata": {
    "collapsed": false,
    "pycharm": {
     "name": "#%% md\n"
    }
   }
  },
  {
   "cell_type": "code",
   "execution_count": 6,
   "outputs": [],
   "source": [
    "# Read in the RNA seq compendia for fitting the regression model\n",
    "rna_seq_compendia = pd.read_csv(os.path.join(\"..\",\"data\",\"log_tpm.csv\"), header=0, index_col=0).transpose()\n",
    "# Read in the raw counts for the RNA seq compendia\n",
    "rna_seq_raw = pd.read_csv(os.path.join(\"..\",\"data\",\"counts.csv\"), header=0, index_col=0).transpose().loc[rna_seq_compendia.index, rna_seq_compendia.columns]\n",
    "# Read in the sample information\n",
    "sample_information = pd.read_csv(os.path.join(\"..\",\"data\",\"sample_table.csv\"), header=0, index_col=0)\n",
    "# Read in the RNA seq data from the OD and KD experiments\n",
    "kinase_rna_seq = pd.read_csv(os.path.join(\"..\",\"data\", \"kinase_rna_seq.csv\"), header=0, index_col=0).drop(\"GrowthPhase\", axis=1)"
   ],
   "metadata": {
    "collapsed": false,
    "pycharm": {
     "name": "#%%\n"
    }
   }
  },
  {
   "cell_type": "markdown",
   "source": [
    "First, the RNA seq compendia needs to have genes where there are more than 10% of samples with low reads, and samples where there are more than 25% low reads. The bound for \"low reads\" will be determined by examining the histogram of the count data, and finding where the low peak is."
   ],
   "metadata": {
    "collapsed": false,
    "pycharm": {
     "name": "#%% md\n"
    }
   }
  },
  {
   "cell_type": "code",
   "execution_count": 7,
   "outputs": [
    {
     "data": {
      "text/plain": "Text(0.5, 1.0, 'Density of Counts')"
     },
     "execution_count": 7,
     "metadata": {},
     "output_type": "execute_result"
    },
    {
     "data": {
      "text/plain": "<Figure size 640x480 with 1 Axes>",
      "image/png": "[encoded data removed]"
     },
     "metadata": {},
     "output_type": "display_data"
    }
   ],
   "source": [
    "ul = 20\n",
    "flattened_rna_seq_raw = rna_seq_raw.to_numpy().flatten()\n",
    "filtered_rna_seq_raw = flattened_rna_seq_raw[flattened_rna_seq_raw < ul]\n",
    "\n",
    "fig = plt.figure()\n",
    "ax = plt.axes()\n",
    "sb.histplot(filtered_rna_seq_raw, ax=ax, kde=True, stat=\"density\", binwidth=1, discrete=True)\n",
    "ax.set_xlim((0,ul))\n",
    "ax.set_xlabel(\"Counts\")\n",
    "ax.set_title(\"Density of Counts\")"
   ],
   "metadata": {
    "collapsed": false,
    "pycharm": {
     "name": "#%%\n"
    }
   }
  },
  {
   "cell_type": "code",
   "execution_count": 8,
   "outputs": [],
   "source": [
    "# Based on the above histogram, a lower bound of 3 reads was chosen.\n",
    "gene_lower_bound_counts = 3\n",
    "gene_small_proportion = 0.1\n",
    "sample_lower_bound_counts = 3\n",
    "sample_small_proportion = 0.25\n",
    "\n",
    "# Start by removing the samples where more than sample_small_proportion are less than sample_lower_bound_counts\n",
    "small_count_samples = (rna_seq_raw<=gene_lower_bound_counts).mean(axis=1)\n",
    "small_count_samples = small_count_samples[small_count_samples>sample_small_proportion].index\n",
    "updated_rna_seq_raw = rna_seq_raw.drop(small_count_samples, axis=0)\n",
    "\n",
    "# Next, remove genes where more than gene_small_proportion are less than gene_lower_bound_counts\n",
    "small_count_genes = (rna_seq_raw<=gene_lower_bound_counts).mean(axis=0)\n",
    "small_count_genes = small_count_genes[small_count_genes>gene_small_proportion].index\n",
    "updated_rna_seq_raw = updated_rna_seq_raw.drop(small_count_genes, axis=1)\n",
    "\n",
    "# Update the gene compendia to only include those genes and samples with sufficiently high reads\n",
    "filtered_rna_compendia = rna_seq_compendia.loc[updated_rna_seq_raw.index, updated_rna_seq_raw.columns]"
   ],
   "metadata": {
    "collapsed": false,
    "pycharm": {
     "name": "#%%\n"
    }
   }
  },
  {
   "cell_type": "markdown",
   "source": [
    "The reference conditions are also still included in the rna_compendia, and those will need to be removed"
   ],
   "metadata": {
    "collapsed": false,
    "pycharm": {
     "name": "#%% md\n"
    }
   }
  },
  {
   "cell_type": "code",
   "execution_count": 9,
   "outputs": [],
   "source": [
    "# Create dictionaries to hold information about which samples are in which project, and what the reference conditions for that project are\n",
    "project_to_samples = {}\n",
    "samples_to_project = {}\n",
    "project_to_reference = {}\n",
    "project_to_reference_samples ={}\n",
    "reference_samples = []\n",
    "# Go through each project and fill the dictionaries with the information\n",
    "for project, df in sample_information.groupby(\"project\"):\n",
    "    # Get the name of the reference condition\n",
    "    ref_condition = df[\"reference_condition\"].values[0]\n",
    "    # Check if all reference conditions are the same (they should be)\n",
    "    if not (df[\"reference_condition\"] == ref_condition).all():\n",
    "        print(f\"Project {project} has more than 1 reference condition\")\n",
    "        break\n",
    "    # Add information to the dictionaries\n",
    "    project_to_reference[project]=ref_condition\n",
    "    project_to_samples[project] = list(df.index)\n",
    "    for sample in df.index:\n",
    "        samples_to_project[sample]=project\n",
    "    # Find all the reference condition samples\n",
    "    references = df[df[\"condition\"]==ref_condition]\n",
    "    project_to_reference_samples[project]=list(references.index)\n",
    "    reference_samples+=list(references.index)"
   ],
   "metadata": {
    "collapsed": false,
    "pycharm": {
     "name": "#%%\n"
    }
   }
  },
  {
   "cell_type": "code",
   "execution_count": 10,
   "outputs": [],
   "source": [
    "# Now, remove the reference samples from the filtered compendia\n",
    "samples_to_remove = lh.find_intersect(list(filtered_rna_compendia.index), reference_samples)\n",
    "filtered_rna_compendia = filtered_rna_compendia.drop(samples_to_remove, axis=0)"
   ],
   "metadata": {
    "collapsed": false,
    "pycharm": {
     "name": "#%%\n"
    }
   }
  },
  {
   "cell_type": "markdown",
   "source": [
    "The kinase experiment data are in the form of RPKM, and must be converted to TPM, and then log2(fold-change) form"
   ],
   "metadata": {
    "collapsed": false,
    "pycharm": {
     "name": "#%% md\n"
    }
   }
  },
  {
   "cell_type": "code",
   "execution_count": 11,
   "outputs": [],
   "source": [
    "# Convert the RPKM to TPM using formula from Zhao et al., 2020 RNA\n",
    "kinase_rna_seq = mycokinaseseq.utils.rpkm_to_tpm(kinase_rna_seq)\n",
    "# Now this must be converted to log2(fold-change) form\n",
    "# The reference conditions are all the wild-type samples\n",
    "reference_list = list(map(lambda x: \"WT\" in x, kinase_rna_seq.index))\n",
    "not_reference_list = [not x for x in reference_list]\n",
    "reference_condition_average = kinase_rna_seq.loc[reference_list].mean(axis=1)\n",
    "# Take the log2 transform of the fold change data\n",
    "# Catching the divide by 0 error, and changing the inf it generates to a NaN\n",
    "with warnings.catch_warnings():\n",
    "    warnings.simplefilter(\"ignore\", category=RuntimeWarning)\n",
    "    kinase_rna_compendia = np.log2(\n",
    "        kinase_rna_seq.loc[not_reference_list].div(reference_condition_average,axis=1)\n",
    "    ).replace([np.inf, -np.inf], np.nan)"
   ],
   "metadata": {
    "collapsed": false,
    "pycharm": {
     "name": "#%%\n"
    }
   }
  },
  {
   "cell_type": "code",
   "execution_count": 12,
   "outputs": [],
   "source": [
    "# Find the set of genes shared by both datasets, and remove genes that are not found in both\n",
    "shared_genes = lh.find_intersect(list(filtered_rna_compendia.columns), list(kinase_rna_compendia.columns))\n",
    "filtered_rna_compendia = filtered_rna_compendia[shared_genes]\n",
    "kinase_rna_compendia = kinase_rna_compendia[shared_genes]"
   ],
   "metadata": {
    "collapsed": false,
    "pycharm": {
     "name": "#%%\n"
    }
   }
  },
  {
   "cell_type": "markdown",
   "source": [
    "## Split Data into a Development set, and a testing set"
   ],
   "metadata": {
    "collapsed": false,
    "pycharm": {
     "name": "#%% md\n"
    }
   }
  },
  {
   "cell_type": "code",
   "execution_count": 13,
   "outputs": [],
   "source": [
    "dev, test = sklearn.model_selection.train_test_split(filtered_rna_compendia, test_size=0.1, random_state=42)"
   ],
   "metadata": {
    "collapsed": false,
    "pycharm": {
     "name": "#%%\n"
    }
   }
  },
  {
   "cell_type": "markdown",
   "source": [
    "## Hyperparameter Optimization for Elastic Net Regression"
   ],
   "metadata": {
    "collapsed": false,
    "pycharm": {
     "name": "#%% md\n"
    }
   }
  },
  {
   "cell_type": "code",
   "execution_count": 14,
   "outputs": [],
   "source": [
    "# Convert the kinase targets dict to be by locus tag instead of kinase name\n",
    "kinase_dict = {}\n",
    "for key, item in kinase_targets_dict.items():\n",
    "    kinase_dict[kinase_locus_dict[key]] = item\n",
    "# Create the regression object\n",
    "model = mycokinaseseq.kinase_tf_model.KinaseTfModel(kinase_dict=kinase_dict, tf_dict=tf_targets_dict, gene_list=list(dev.columns))\n",
    "\n",
    "# Create lists for splitting the dataframes into kinase, tf, and other gene expression\n",
    "kinase_list = list(model.kinase_dict.keys())\n",
    "tf_list = list(model.tf_dict.keys())\n",
    "targeted_gene_list = model.targeted_genes"
   ],
   "metadata": {
    "collapsed": false,
    "pycharm": {
     "name": "#%%\n"
    }
   }
  },
  {
   "cell_type": "code",
   "execution_count": 15,
   "outputs": [],
   "source": [
    "# Create the objective for the optuna Tree Parzen Estimator\n",
    "def objective_cv(trial):\n",
    "    # Define hyperparameter space\n",
    "    alpha = trial.suggest_float(\"alpha\",0.0,2.0)\n",
    "    # For the L1_wt, it is suggested in sklearn to use more values closer to 1 to test with,\n",
    "    # in order to do this, a categorical will be used with predefined values\n",
    "    L1_wt = trial.suggest_float(\"L1_wt\",0.0,1.0)\n",
    "\n",
    "    # If the model is to be regularized, construct a kwarg dictionary\n",
    "    kwarg_dict = {\"alpha\":alpha, \"L1_wt\":L1_wt}\n",
    "\n",
    "    # Generate the cross validation iterator\n",
    "    kfold = sklearn.model_selection.KFold(n_splits=5)\n",
    "\n",
    "    # Separate out the dev set based on the kfold\n",
    "    score_list = []\n",
    "    for i, (train_index, test_index) in enumerate(kfold.split(dev)):\n",
    "        model.fit(dev.iloc[train_index],significance_level=0.05,\n",
    "                  multi_comparison_method=\"bh\", false_discovery_rate=0.05,\n",
    "                  regularized=True, verbose=True,\n",
    "                  **kwarg_dict)\n",
    "        # Add the score for each fold to the list\n",
    "        score_list.append(\n",
    "            model.score(kinase_expression=dev.iloc[test_index][kinase_list],\n",
    "                        tf_expression=dev.iloc[test_index][tf_list],\n",
    "                        gene_expression=dev.iloc[test_index][targeted_gene_list],\n",
    "                        metric=sklearn.metrics.mean_squared_error).mean())\n",
    "    score = np.mean(score_list)\n",
    "    return score\n",
    "\n",
    "\n",
    "\n",
    "def objective_single(trial):\n",
    "    # Define hyperparameter space\n",
    "    alpha = trial.suggest_float(\"alpha\", 0.0,2.0)\n",
    "    L1_wt = trial.suggest_float(\"L1_wt\", 0.0,1.0)\n",
    "\n",
    "    # Split the data to perform the scoring\n",
    "    dev_train, dev_test = sklearn.model_selection.train_test_split(dev,test_size=0.2)\n",
    "\n",
    "    # If the model is to be regularized, construct a kwarg dictionary\n",
    "    kwarg_dict = {\"alpha\":alpha, \"L1_wt\":L1_wt}\n",
    "    model.fit(dev_train,significance_level=0.05,\n",
    "              multi_comparison_method=\"bh\", false_discovery_rate=0.05,\n",
    "              regularized=True, **kwarg_dict)\n",
    "    return model.score(kinase_expression=dev_test[kinase_list],\n",
    "                tf_expression=dev_test[tf_list],\n",
    "                gene_expression=dev_test[targeted_gene_list],\n",
    "                metric=sklearn.metrics.mean_squared_error).mean()"
   ],
   "metadata": {
    "collapsed": false,
    "pycharm": {
     "name": "#%%\n"
    }
   }
  },
  {
   "cell_type": "code",
   "execution_count": 16,
   "outputs": [],
   "source": [
    "# If OPT_HYPERPARAMETERS is True, then run the optuna study, otherwise read the pre-generated values\n",
    "if OPT_HYPERPARAMETERS:\n",
    "    # Create the optuna study to find the optimum hyperparameters\n",
    "    study = optuna.create_study(sampler=optuna.samplers.TPESampler(n_startup_trials=10, multivariate=True), direction=\"minimize\")\n",
    "    study.optimize(objective_cv, n_trials=100)\n",
    "    # Get the results as a dataframe\n",
    "    results = study.trials_dataframe()\n",
    "else:\n",
    "    with open(os.path.join(\".\", \"optimum_hyperparamters.json\"),\"r\") as f:\n",
    "        hyperparameters_dict = json.load(f)"
   ],
   "metadata": {
    "collapsed": false,
    "pycharm": {
     "name": "#%%\n"
    }
   }
  },
  {
   "cell_type": "code",
   "execution_count": 17,
   "outputs": [],
   "source": [
    "if not OPT_HYPERPARAMETERS:\n",
    "    results = pd.read_csv(os.path.join(\".\",\"results.csv\"))"
   ],
   "metadata": {
    "collapsed": false,
    "pycharm": {
     "name": "#%%\n"
    }
   }
  },
  {
   "cell_type": "code",
   "execution_count": 18,
   "outputs": [
    {
     "data": {
      "text/plain": "Text(0.5, 0, 'alpha')"
     },
     "execution_count": 18,
     "metadata": {},
     "output_type": "execute_result"
    },
    {
     "data": {
      "text/plain": "<Figure size 640x480 with 2 Axes>",
      "image/png": "[encoded data removed]"
     },
     "metadata": {},
     "output_type": "display_data"
    }
   ],
   "source": [
    "fig, ax = plt.subplots()\n",
    "sb.scatterplot(data=results, x=\"params_alpha\", y=\"value\", hue=\"params_L1_wt\", ax=ax)\n",
    "ax.set_ylabel(\"Mean Squared Error\")\n",
    "ax.set_xlabel(\"alpha\")\n",
    "ax.legend(title=\"L1 Weight\")\n",
    "ax.set_title(\"Hyperparameter Optimization Mean Squared Error\")\n",
    "\n",
    "ax2 = plt.axes([0.6, 0.2, 0.2, 0.2], facecolor = \"xkcd:periwinkle\")\n",
    "sb.scatterplot(data=results, x=\"params_alpha\", y=\"value\", hue=\"params_L1_wt\", ax=ax2, legend=False)\n",
    "ax2.set_title(\"Zoom\")\n",
    "ax2.set_xlim(-0.02,0.1)\n",
    "ax2.set_ylim(0.61,0.65)\n",
    "ax2.set_ylabel(\"MSE\")\n",
    "ax2.set_xlabel(\"alpha\")"
   ],
   "metadata": {
    "collapsed": false,
    "pycharm": {
     "name": "#%%\n"
    }
   }
  },
  {
   "cell_type": "code",
   "execution_count": 19,
   "outputs": [],
   "source": [
    "if OPT_HYPERPARAMETERS:\n",
    "    opt_alpha = results.sort_values(by=\"value\")[\"params_alpha\"].iloc[0]\n",
    "    opt_L1_wt = results.sort_values(by=\"value\")[\"params_L1_wt\"].iloc[0]\n",
    "    print(f\"The optimum value for the parameters found by the Tree Parzen estimator are:\\n\"\n",
    "          f\"alpha: {opt_alpha}\\n\"\n",
    "          f\"L1_wt: {opt_L1_wt}\\n\")\n",
    "    # Save the optimum hyperparameters to avoid rerunning the hyperparameter optimization\n",
    "    with open(os.path.join(\".\",\"optimum_hyperparamters.json\",),\"w\") as f:\n",
    "        json.dump({\"opt_alpha\":opt_alpha, \"opt_L1_wt\":opt_L1_wt}, f)\n",
    "    # Save the results dataframe\n",
    "    results.to_csv(os.path.join(\".\",\"results.csv\"))\n",
    "else:\n",
    "    opt_alpha = hyperparameters_dict[\"opt_alpha\"]\n",
    "    opt_L1_wt = hyperparameters_dict[\"opt_L1_wt\"]"
   ],
   "metadata": {
    "collapsed": false,
    "pycharm": {
     "name": "#%%\n"
    }
   }
  },
  {
   "cell_type": "markdown",
   "source": [
    "## Dev set testing"
   ],
   "metadata": {
    "collapsed": false,
    "pycharm": {
     "name": "#%% md\n"
    }
   }
  },
  {
   "cell_type": "code",
   "execution_count": 20,
   "outputs": [
    {
     "name": "stdout",
     "output_type": "stream",
     "text": [
      "Fitting Significant Associations model\n",
      "Finding Significant Associations\n",
      "■■■■■■■■■■100.00%\n",
      "Finished!\n",
      "Found Associations\n",
      "Finding Model Coefficients\n",
      "■■■■■■■■■■100.00%\n",
      "Finished!\n",
      "Found Coefficients\n",
      "Fitting TF only model\n",
      "Finding Coefficients\n",
      "■■■■■■■■■■100.00%\n",
      "Finished!\n",
      "Found Coefficients\n",
      "Fitting TF Kinase restricted model\n",
      "Finding Model Coefficients\n",
      "■■■■■■■■■■100.00%\n",
      "Finished!\n",
      "Found Coefficients\n",
      "Fitting TF Kinase Full Model\n",
      "Finding model coefficients\n",
      "■■■■■■■■■■100.00%\n",
      "Finished!\n",
      "Found Coefficients\n"
     ]
    },
    {
     "ename": "ValueError",
     "evalue": "Indices are not equal",
     "output_type": "error",
     "traceback": [
      "\u001B[1;31m---------------------------------------------------------------------------\u001B[0m",
      "\u001B[1;31mValueError\u001B[0m                                Traceback (most recent call last)",
      "Cell \u001B[1;32mIn[20], line 60\u001B[0m\n\u001B[0;32m     56\u001B[0m tf_kinase_full_model\u001B[38;5;241m.\u001B[39mfit(dev\u001B[38;5;241m.\u001B[39miloc[train_index], regularized\u001B[38;5;241m=\u001B[39m\u001B[38;5;28;01mTrue\u001B[39;00m, intercept\u001B[38;5;241m=\u001B[39m\u001B[38;5;28;01mTrue\u001B[39;00m, alpha\u001B[38;5;241m=\u001B[39mopt_alpha, L1_wt\u001B[38;5;241m=\u001B[39mopt_L1_wt, verbose\u001B[38;5;241m=\u001B[39mVERBOSE)\n\u001B[0;32m     58\u001B[0m \u001B[38;5;66;03m# Score by gene regression\u001B[39;00m\n\u001B[0;32m     59\u001B[0m \u001B[38;5;66;03m# Mean squared error\u001B[39;00m\n\u001B[1;32m---> 60\u001B[0m mse_scores[\u001B[38;5;124m\"\u001B[39m\u001B[38;5;124msignificant_model\u001B[39m\u001B[38;5;124m\"\u001B[39m]\u001B[38;5;241m.\u001B[39mappend(\u001B[43mmodel\u001B[49m\u001B[38;5;241;43m.\u001B[39;49m\u001B[43mscore_gene_regression\u001B[49m\u001B[43m(\u001B[49m\u001B[43mkinase_expression\u001B[49m\u001B[38;5;241;43m=\u001B[39;49m\u001B[43mdev\u001B[49m\u001B[38;5;241;43m.\u001B[39;49m\u001B[43miloc\u001B[49m\u001B[43m[\u001B[49m\u001B[43mtest_index\u001B[49m\u001B[43m]\u001B[49m\u001B[43m[\u001B[49m\u001B[43mkinase_list\u001B[49m\u001B[43m]\u001B[49m\u001B[43m,\u001B[49m\n\u001B[0;32m     61\u001B[0m \u001B[43m                                                                   \u001B[49m\u001B[43mtf_expression\u001B[49m\u001B[38;5;241;43m=\u001B[39;49m\u001B[43mdev\u001B[49m\u001B[38;5;241;43m.\u001B[39;49m\u001B[43miloc\u001B[49m\u001B[43m[\u001B[49m\u001B[43mtest_index\u001B[49m\u001B[43m]\u001B[49m\u001B[43m[\u001B[49m\u001B[43mtf_list\u001B[49m\u001B[43m]\u001B[49m\u001B[43m,\u001B[49m\n\u001B[0;32m     62\u001B[0m \u001B[43m                                                                   \u001B[49m\u001B[43mgene_expression\u001B[49m\u001B[38;5;241;43m=\u001B[39;49m\u001B[43mdev\u001B[49m\u001B[38;5;241;43m.\u001B[39;49m\u001B[43miloc\u001B[49m\u001B[43m[\u001B[49m\u001B[43mtest_index\u001B[49m\u001B[43m]\u001B[49m\u001B[43m[\u001B[49m\u001B[43mtargeted_gene_list\u001B[49m\u001B[43m]\u001B[49m\u001B[43m,\u001B[49m\n\u001B[0;32m     63\u001B[0m \u001B[43m                                                                   \u001B[49m\u001B[43mmetric\u001B[49m\u001B[38;5;241;43m=\u001B[39;49m\u001B[43mmean_squared_error\u001B[49m\u001B[43m)\u001B[49m)\n\u001B[0;32m     64\u001B[0m mse_scores[\u001B[38;5;124m\"\u001B[39m\u001B[38;5;124mtf_only\u001B[39m\u001B[38;5;124m\"\u001B[39m]\u001B[38;5;241m.\u001B[39mappend(tf_only_model\u001B[38;5;241m.\u001B[39mscore(tf_expression\u001B[38;5;241m=\u001B[39mdev\u001B[38;5;241m.\u001B[39miloc[test_index][tf_list],\n\u001B[0;32m     65\u001B[0m                                                  gene_expression\u001B[38;5;241m=\u001B[39mdev\u001B[38;5;241m.\u001B[39miloc[test_index][targeted_gene_list],\n\u001B[0;32m     66\u001B[0m                                                  metric\u001B[38;5;241m=\u001B[39mmean_squared_error))\n\u001B[0;32m     67\u001B[0m mse_scores[\u001B[38;5;124m\"\u001B[39m\u001B[38;5;124mtf_kinase_restricted\u001B[39m\u001B[38;5;124m\"\u001B[39m]\u001B[38;5;241m.\u001B[39mappend(tf_kinase_restricted_model\u001B[38;5;241m.\u001B[39mscore(tf_expression\u001B[38;5;241m=\u001B[39mdev\u001B[38;5;241m.\u001B[39miloc[test_index][tf_list],\n\u001B[0;32m     68\u001B[0m                                                                            kinase_expression\u001B[38;5;241m=\u001B[39mdev\u001B[38;5;241m.\u001B[39miloc[test_index][kinase_list],\n\u001B[0;32m     69\u001B[0m                                                                            gene_expression\u001B[38;5;241m=\u001B[39mdev\u001B[38;5;241m.\u001B[39miloc[test_index][targeted_gene_list],\n\u001B[0;32m     70\u001B[0m                                                                            metric\u001B[38;5;241m=\u001B[39mmean_squared_error))\n",
      "File \u001B[1;32m~\\OneDrive\\CGIDR Research\\mycokinaseseq\\mycokinaseseq\\kinase_tf_model.py:423\u001B[0m, in \u001B[0;36mKinaseTfModel.score_gene_regression\u001B[1;34m(self, kinase_expression, tf_expression, gene_expression, metric, **kwargs)\u001B[0m\n\u001B[0;32m    419\u001B[0m \u001B[38;5;66;03m# Call setup to check index and columns, and make sure the gene_expression and prediction have the same columns\u001B[39;00m\n\u001B[0;32m    420\u001B[0m gene_expression, predicted \u001B[38;5;241m=\u001B[39m \u001B[38;5;28mself\u001B[39m\u001B[38;5;241m.\u001B[39m_setup_score_functions(kinase_expression\u001B[38;5;241m=\u001B[39mkinase_expression,\n\u001B[0;32m    421\u001B[0m                                                          tf_expression\u001B[38;5;241m=\u001B[39mtf_expression,\n\u001B[0;32m    422\u001B[0m                                                          gene_expression\u001B[38;5;241m=\u001B[39mgene_expression)\n\u001B[1;32m--> 423\u001B[0m regression_gene_scores \u001B[38;5;241m=\u001B[39m df_reduce(gene_expression, predicted, metric, axis\u001B[38;5;241m=\u001B[39m\u001B[38;5;241m1\u001B[39m, \u001B[38;5;241m*\u001B[39m\u001B[38;5;241m*\u001B[39mkwargs)\n\u001B[0;32m    424\u001B[0m \u001B[38;5;28;01mreturn\u001B[39;00m regression_gene_scores\n",
      "File \u001B[1;32m~\\OneDrive\\CGIDR Research\\mycokinaseseq\\mycokinaseseq\\kinase_tf_model.py:122\u001B[0m, in \u001B[0;36mdf_reduce\u001B[1;34m(df1, df2, func, axis, **kwargs)\u001B[0m\n\u001B[0;32m    120\u001B[0m \u001B[38;5;66;03m# Make sure the index and columns are equal\u001B[39;00m\n\u001B[0;32m    121\u001B[0m \u001B[38;5;28;01mif\u001B[39;00m \u001B[38;5;129;01mnot\u001B[39;00m df1\u001B[38;5;241m.\u001B[39mindex\u001B[38;5;241m.\u001B[39mequals(df2):\n\u001B[1;32m--> 122\u001B[0m     \u001B[38;5;28;01mraise\u001B[39;00m \u001B[38;5;167;01mValueError\u001B[39;00m(\u001B[38;5;124m\"\u001B[39m\u001B[38;5;124mIndices are not equal\u001B[39m\u001B[38;5;124m\"\u001B[39m)\n\u001B[0;32m    123\u001B[0m \u001B[38;5;28;01mif\u001B[39;00m \u001B[38;5;129;01mnot\u001B[39;00m df1\u001B[38;5;241m.\u001B[39mcolumns\u001B[38;5;241m.\u001B[39mequals(df2):\n\u001B[0;32m    124\u001B[0m     \u001B[38;5;28;01mraise\u001B[39;00m \u001B[38;5;167;01mValueError\u001B[39;00m(\u001B[38;5;124m\"\u001B[39m\u001B[38;5;124mColumns are not equal\u001B[39m\u001B[38;5;124m\"\u001B[39m)\n",
      "\u001B[1;31mValueError\u001B[0m: Indices are not equal"
     ]
    }
   ],
   "source": [
    "# Set up variable for verbose output\n",
    "VERBOSE = True\n",
    "\n",
    "# Check if directory for this exists, and if not create it\n",
    "cv_directory = os.path.join(\"..\",\"data\",\"cross_validation\")\n",
    "if not os.path.exists(cv_directory):\n",
    "    os.mkdir(cv_directory)\n",
    "#dev set testing\n",
    "cv_splits = 5\n",
    "kfold = sklearn.model_selection.KFold(n_splits=cv_splits)\n",
    "\n",
    "# Create the restricted model objects\n",
    "tf_only_model = mycokinaseseq.kinase_tf_model.TfOnlyModel(kinase_dict=kinase_dict, tf_dict=tf_targets_dict, gene_list=list(dev.columns))\n",
    "tf_kinase_restricted_model = mycokinaseseq.kinase_tf_model.TfKinaseRestrictedModel(kinase_dict=kinase_dict, tf_dict=tf_targets_dict, gene_list=list(dev.columns))\n",
    "tf_kinase_full_model = mycokinaseseq.kinase_tf_model.TfKinaseFullModel(kinase_dict=kinase_dict, tf_dict=tf_targets_dict, gene_list=list(dev.columns))\n",
    "\n",
    "\n",
    "# Set up dicts to hold lists of scores\n",
    "# Regression metrics\n",
    "mse_scores = {\"tf_only\":[], \"tf_kinase_restricted\":[], \"tf_kinase_full\":[], \"significant_model\":[], \"overall\":[]}\n",
    "mae_scores = {\"tf_only\":[], \"tf_kinase_restricted\":[], \"tf_kinase_full\":[], \"significant_model\":[], \"overall\":[]}\n",
    "median_ae_scores = {\"tf_only\":[], \"tf_kinase_restricted\":[], \"tf_kinase_full\":[], \"significant_model\":[], \"overall\":[]}\n",
    "r2_scores = {\"tf_only\":[], \"tf_kinase_restricted\":[], \"tf_kinase_full\":[], \"significant_model\":[], \"overall\":[]}\n",
    "\n",
    "# Decision function classification metrics\n",
    "roc_auc_scores = {\"significant_model\":[], \"overall\":[]}\n",
    "\n",
    "# Label based classification metrics\n",
    "accuracy_scores = {\"significant_model\":[], \"overall\":[]}\n",
    "precision_scores = {\"significant_model\":[], \"overall\":[]}\n",
    "recall_scores = {\"significant_model\":[], \"overall\":[]}\n",
    "f_scores = {\"significant_model\":[], \"overall\":[]}\n",
    "balanced_accuracy_scores = {\"significant_model\":[], \"overall\":[]}\n",
    "\n",
    "for index, (train_index, test_index) in enumerate(kfold.split(dev)):\n",
    "    # Fit the model objects\n",
    "    if VERBOSE:\n",
    "        print(\"Fitting Significant Associations model\")\n",
    "    model.fit(dev.iloc[train_index],\n",
    "              significance_level=0.05,\n",
    "              multi_comparison_method=\"bh\",\n",
    "              false_discovery_rate=0.05,\n",
    "              verbose=VERBOSE,\n",
    "              regularized=True,\n",
    "              intercept=True,\n",
    "              alpha=opt_alpha,\n",
    "              L1_wt = opt_L1_wt)\n",
    "    if VERBOSE:\n",
    "        print(\"Fitting TF only model\")\n",
    "    tf_only_model.fit(dev.iloc[train_index], regularized=True, intercept=True, alpha=opt_alpha, L1_wt = opt_L1_wt, verbose=VERBOSE)\n",
    "    if VERBOSE:\n",
    "        print(\"Fitting TF Kinase restricted model\")\n",
    "    tf_kinase_restricted_model.fit(dev.iloc[train_index], regularized=True, intercept=True, alpha=opt_alpha, L1_wt=opt_L1_wt, verbose=VERBOSE)\n",
    "    if VERBOSE:\n",
    "        print(\"Fitting TF Kinase Full Model\")\n",
    "    tf_kinase_full_model.fit(dev.iloc[train_index], regularized=True, intercept=True, alpha=opt_alpha, L1_wt=opt_L1_wt, verbose=VERBOSE)\n",
    "\n",
    "    # Score by gene regression\n",
    "    # Mean squared error\n",
    "    mse_scores[\"significant_model\"].append(model.score_gene_regression(kinase_expression=dev.iloc[test_index][kinase_list],\n",
    "                                                                       tf_expression=dev.iloc[test_index][tf_list],\n",
    "                                                                       gene_expression=dev.iloc[test_index][targeted_gene_list],\n",
    "                                                                       metric=mean_squared_error))\n",
    "    mse_scores[\"tf_only\"].append(tf_only_model.score(tf_expression=dev.iloc[test_index][tf_list],\n",
    "                                                     gene_expression=dev.iloc[test_index][targeted_gene_list],\n",
    "                                                     metric=mean_squared_error))\n",
    "    mse_scores[\"tf_kinase_restricted\"].append(tf_kinase_restricted_model.score(tf_expression=dev.iloc[test_index][tf_list],\n",
    "                                                                               kinase_expression=dev.iloc[test_index][kinase_list],\n",
    "                                                                               gene_expression=dev.iloc[test_index][targeted_gene_list],\n",
    "                                                                               metric=mean_squared_error))\n",
    "    mse_scores[\"tf_kinase_full\"].append(tf_kinase_full_model.score(tf_expression=dev.iloc[test_index][tf_list],\n",
    "                                                                   kinase_expression=dev.iloc[test_index][kinase_list],\n",
    "                                                                   gene_expression=dev.iloc[test_index][targeted_gene_list],\n",
    "                                                                   metric=mean_squared_error))\n",
    "    mse_scores[\"overall\"].append(model.score_overall_regression(kinase_expression=dev.iloc[kinase_list][kinase_list],\n",
    "                                                                tf_expression=dev.iloc[test_index][tf_list],\n",
    "                                                                gene_expression=dev.iloc[test_index][targeted_gene_list],\n",
    "                                                                metric=mean_squared_error))\n",
    "    # Mean Absolute Error\n",
    "    mae_scores[\"significant_model\"].append(model.score_gene_regression(kinase_expression=dev.iloc[test_index][kinase_list],\n",
    "                                                                       tf_expression=dev.iloc[test_index][tf_list],\n",
    "                                                                       gene_expression=dev.iloc[test_index][targeted_gene_list],\n",
    "                                                                       metric=mean_absolute_error))\n",
    "    mae_scores[\"tf_only\"].append(tf_only_model.score(tf_expression=dev.iloc[test_index][tf_list],\n",
    "                                                     gene_expression=dev.iloc[test_index][targeted_gene_list],\n",
    "                                                     metric=mean_absolute_error))\n",
    "    mae_scores[\"tf_kinase_restricted\"].append(tf_kinase_restricted_model.score(tf_expression=dev.iloc[test_index][tf_list],\n",
    "                                                                               kinase_expression=dev.iloc[test_index][kinase_list],\n",
    "                                                                               gene_expression=dev.iloc[test_index][targeted_gene_list],\n",
    "                                                                               metric=mean_absolute_error))\n",
    "    mae_scores[\"tf_kinase_full\"].append(tf_kinase_full_model.score(tf_expression=dev.iloc[test_index][tf_list],\n",
    "                                                                   kinase_expression=dev.iloc[test_index][kinase_list],\n",
    "                                                                   gene_expression=dev.iloc[test_index][targeted_gene_list],\n",
    "                                                                   metric=mean_absolute_error))\n",
    "    mae_scores[\"overall\"].append(model.score_overall_regression(kinase_expression=dev.iloc[kinase_list][kinase_list],\n",
    "                                                                tf_expression=dev.iloc[test_index][tf_list],\n",
    "                                                                gene_expression=dev.iloc[test_index][targeted_gene_list],\n",
    "                                                                metric=mean_absolute_error))\n",
    "    # Median Absolute Error\n",
    "    median_ae_scores[\"significant_model\"].append(model.score_gene_regression(kinase_expression=dev.iloc[test_index][kinase_list],\n",
    "                                                                       tf_expression=dev.iloc[test_index][tf_list],\n",
    "                                                                       gene_expression=dev.iloc[test_index][targeted_gene_list],\n",
    "                                                                       metric=median_absolute_error))\n",
    "    median_ae_scores[\"tf_only\"].append(tf_only_model.score(tf_expression=dev.iloc[test_index][tf_list],\n",
    "                                                     gene_expression=dev.iloc[test_index][targeted_gene_list],\n",
    "                                                     metric=median_absolute_error))\n",
    "    median_ae_scores[\"tf_kinase_restricted\"].append(tf_kinase_restricted_model.score(tf_expression=dev.iloc[test_index][tf_list],\n",
    "                                                                               kinase_expression=dev.iloc[test_index][kinase_list],\n",
    "                                                                               gene_expression=dev.iloc[test_index][targeted_gene_list],\n",
    "                                                                               metric=median_absolute_error))\n",
    "    median_ae_scores[\"tf_kinase_full\"].append(tf_kinase_full_model.score(tf_expression=dev.iloc[test_index][tf_list],\n",
    "                                                                   kinase_expression=dev.iloc[test_index][kinase_list],\n",
    "                                                                   gene_expression=dev.iloc[test_index][targeted_gene_list],\n",
    "                                                                   metric=median_absolute_error))\n",
    "    median_ae_scores[\"overall\"].append(model.score_overall_regression(kinase_expression=dev.iloc[kinase_list][kinase_list],\n",
    "                                                                tf_expression=dev.iloc[test_index][tf_list],\n",
    "                                                                gene_expression=dev.iloc[test_index][targeted_gene_list],\n",
    "                                                                metric=median_absolute_error))\n",
    "    # R2 scores\n",
    "    r2_scores[\"significant_model\"].append(model.score_gene_regression(kinase_expression=dev.iloc[test_index][kinase_list],\n",
    "                                                                       tf_expression=dev.iloc[test_index][tf_list],\n",
    "                                                                       gene_expression=dev.iloc[test_index][targeted_gene_list],\n",
    "                                                                       metric=r2_score))\n",
    "    r2_scores[\"tf_only\"].append(tf_only_model.score(tf_expression=dev.iloc[test_index][tf_list],\n",
    "                                                     gene_expression=dev.iloc[test_index][targeted_gene_list],\n",
    "                                                     metric=r2_score))\n",
    "    r2_scores[\"tf_kinase_restricted\"].append(tf_kinase_restricted_model.score(tf_expression=dev.iloc[test_index][tf_list],\n",
    "                                                                               kinase_expression=dev.iloc[test_index][kinase_list],\n",
    "                                                                               gene_expression=dev.iloc[test_index][targeted_gene_list],\n",
    "                                                                               metric=r2_score))\n",
    "    r2_scores[\"tf_kinase_full\"].append(tf_kinase_full_model.score(tf_expression=dev.iloc[test_index][tf_list],\n",
    "                                                                   kinase_expression=dev.iloc[test_index][kinase_list],\n",
    "                                                                   gene_expression=dev.iloc[test_index][targeted_gene_list],\n",
    "                                                                   metric=r2_score))\n",
    "    r2_scores[\"overall\"].append(model.score_overall_regression(kinase_expression=dev.iloc[kinase_list][kinase_list],\n",
    "                                                                tf_expression=dev.iloc[test_index][tf_list],\n",
    "                                                                gene_expression=dev.iloc[test_index][targeted_gene_list],\n",
    "                                                                metric=r2_score))\n",
    "\n",
    "    # ROC AUC Score\n",
    "    roc_auc_scores[\"significant_model\"].append(model.score_gene_classification_decision_function(kinase_expression=dev.iloc[test_index][kinase_list],\n",
    "                                                                                                 tf_expression=dev.iloc[test_index][tf_list],\n",
    "                                                                                                 gene_expression=dev.iloc[test_index][targeted_gene_list],\n",
    "                                                                                                 metric=roc_auc_score))\n",
    "    roc_auc_scores[\"overall\"].append(model.score_overall_classification_decision_function(kinase_expression=dev.iloc[test_index][kinase_list],\n",
    "                                                                                          tf_expression=dev.iloc[test_index][tf_list],\n",
    "                                                                                          gene_expression=dev.iloc[test_index][targeted_gene_list],\n",
    "                                                                                          metric=roc_auc_score))\n",
    "\n",
    "    # Classification Label Scores\n",
    "    # Accuracy\n",
    "    accuracy_scores[\"significant_model\"].append(model.score_gene_classification_labels(kinase_expression=dev.iloc[test_index][kinase_list],\n",
    "                                                                                       tf_expression=dev.iloc[test_index][tf_list],\n",
    "                                                                                       gene_expression=dev.iloc[test_index][targeted_gene_list],\n",
    "                                                                                       metric=accuracy_score))\n",
    "    accuracy_scores[\"overall\"].append(model.score_overall_classification_labels(kinase_expression=dev.iloc[test_index][kinase_list],\n",
    "                                                                                tf_expression=dev.iloc[test_index][tf_list],\n",
    "                                                                                gene_expression=dev.iloc[test_index][targeted_gene_list],\n",
    "                                                                                metric=accuracy_score))\n",
    "    # Precision\n",
    "    precision_scores[\"significant_model\"].append(model.score_gene_classification_labels(kinase_expression=dev.iloc[test_index][kinase_list],\n",
    "                                                                                       tf_expression=dev.iloc[test_index][tf_list],\n",
    "                                                                                       gene_expression=dev.iloc[test_index][targeted_gene_list],\n",
    "                                                                                       metric=precision_score))\n",
    "    precision_scores[\"overall\"].append(model.score_overall_classification_labels(kinase_expression=dev.iloc[test_index][kinase_list],\n",
    "                                                                                tf_expression=dev.iloc[test_index][tf_list],\n",
    "                                                                                gene_expression=dev.iloc[test_index][targeted_gene_list],\n",
    "                                                                                metric=precision_score))\n",
    "    # f1 scores\n",
    "    f_scores[\"significant_model\"].append(model.score_gene_classification_labels(kinase_expression=dev.iloc[test_index][kinase_list],\n",
    "                                                                                       tf_expression=dev.iloc[test_index][tf_list],\n",
    "                                                                                       gene_expression=dev.iloc[test_index][targeted_gene_list],\n",
    "                                                                                       metric=f1_score))\n",
    "    f_scores[\"overall\"].append(model.score_overall_classification_labels(kinase_expression=dev.iloc[test_index][kinase_list],\n",
    "                                                                                tf_expression=dev.iloc[test_index][tf_list],\n",
    "                                                                                gene_expression=dev.iloc[test_index][targeted_gene_list],\n",
    "                                                                                metric=f1_score))\n",
    "    # Balanced Accuracy Scores\n",
    "    balanced_accuracy_scores[\"significant_model\"].append(model.score_gene_classification_labels(kinase_expression=dev.iloc[test_index][kinase_list],\n",
    "                                                                                       tf_expression=dev.iloc[test_index][tf_list],\n",
    "                                                                                       gene_expression=dev.iloc[test_index][targeted_gene_list],\n",
    "                                                                                       metric=balanced_accuracy_score))\n",
    "    balanced_accuracy_scores[\"overall\"].append(model.score_overall_classification_labels(kinase_expression=dev.iloc[test_index][kinase_list],\n",
    "                                                                                tf_expression=dev.iloc[test_index][tf_list],\n",
    "                                                                                gene_expression=dev.iloc[test_index][targeted_gene_list],\n",
    "                                                                                metric=balanced_accuracy_score))"
   ],
   "metadata": {
    "collapsed": false,
    "pycharm": {
     "name": "#%%\n"
    }
   }
  },
  {
   "cell_type": "code",
   "execution_count": null,
   "outputs": [],
   "source": [
    "# Gather individual metrics, then create overall summaries\n",
    "overall_scores = pd.DataFrame(0., columns=['mse','mae','medae', 'r2', 'auc_roc', 'accuracy', 'precision', 'recall', 'f1', 'balanced_accuracy'],\n",
    "                              index=[f\"cv_{i}\" for i in range(cv_splits)])\n",
    "# Rename the series so that concatenation is easier\n",
    "for i in range(cv_splits):\n",
    "    for metric_dict in [mse_scores, mae_scores, median_ae_scores, r2_scores]:\n",
    "        # Rename the score series\n",
    "        metric_dict[\"tf_only\"][i].name= f\"cv_{i}\"\n",
    "        metric_dict[\"tf_kinase_restricted\"][i].name= f\"cv_{i}\"\n",
    "        metric_dict[\"tf_kinase_full\"][i].name= f\"cv_{i}\"\n",
    "        metric_dict[\"significant_model\"][i].name= f\"cv_{i}\"\n",
    "        metric_dict[\"overall\"][i].name= f\"cv_{i}\"\n",
    "    # Rename the series for the roc_auc_scores\n",
    "    roc_auc_scores[\"significant_model\"][i].name = f\"cv_{i}\"\n",
    "    # rename the series for classification metrics\n",
    "    for metric_dict in [accuracy_scores, precision_scores, recall_scores, f_scores, balanced_accuracy_scores]:\n",
    "        metric_dict[\"significant_model\"].name = f\"cv_{i}\"\n",
    "    # Add the values into the overall scores dict\n",
    "    overall_scores.loc[f\"cv_{i}\", \"mse\"] = mse_scores[\"overall\"][i]\n",
    "    overall_scores.loc[f\"cv_{i}\", \"mae\"] = mae_scores[\"overall\"][i]\n",
    "    overall_scores.loc[f\"cv_{i}\", \"medae\"] = median_ae_scores[\"overall\"][i]\n",
    "    overall_scores.loc[f\"cv_{i}\", \"r2\"] = r2_scores[\"overall\"][i]\n",
    "    overall_scores.loc[f\"cv_{i}\", \"auc_roc\"] = roc_auc_scores[\"overall\"][i]\n",
    "    overall_scores.loc[f\"cv_{i}\", \"accuracy\"] = accuracy_scores[\"overall\"][i]\n",
    "    overall_scores.loc[f\"cv_{i}\", \"precision\"] = precision_scores[\"overall\"][i]\n",
    "    overall_scores.loc[f\"cv_{i}\", \"recall\"] = recall_scores[\"overall\"][i]\n",
    "    overall_scores.loc[f\"cv_{i}\", \"f1\"] = f_scores[\"overall\"][i]\n",
    "    overall_scores.loc[f\"cv_{i}\", \"balanced_accuracy\"] = balanced_accuracy_scores[\"overall\"][i]\n",
    "# Compute the mean and std dev of the metrics across the cross validations\n",
    "overall_scores.loc[\"mean\"] = overall_scores.mean(axis=0)\n",
    "overall_scores.loc[\"std\"] = overall_scores.std(axis=0)\n",
    "\n",
    "# Concatenate the score series across the cross validations\n",
    "for metric_dict in [mse_scores, mae_scores, median_ae_scores, r2_scores]:\n",
    "    metric_dict[\"tf_only\"]=pd.concat(metric_dict[\"tf_only\"] , axis=1)\n",
    "    metric_dict[\"tf_kinase_restricted\"]=pd.concat(metric_dict[\"tf_kinase_restricted\"] , axis=1)\n",
    "    metric_dict[\"tf_kinase_full\"]=pd.concat(metric_dict[\"tf_kinase_full\"] , axis=1)\n",
    "    metric_dict[\"significant_model\"]=pd.concat(metric_dict[\"significant_model\"] , axis=1)\n",
    "\n",
    "# Concatenate the score series for the classification metrics\n",
    "for metric_dict in [accuracy_scores, precision_scores, recall_scores, f_scores, balanced_accuracy_scores]:\n",
    "    metric_dict = pd.concat(metric_dict[\"significant_model\"], axis=1)\n",
    "\n",
    "score_summary_dict = {\n",
    "    # mse scores\n",
    "    \"tf_only_mse_mean\":mse_scores[\"tf_only\"].mean(axis=1),\n",
    "    \"tf_only_mse_std\":mse_scores[\"tf_only\"].std(axis=1),\n",
    "    \"tf_kinase_mse_mean\":mse_scores[\"tf_kinase_restricted\"].mean(axis=1),\n",
    "    \"tf_kinase_mse_std\":mse_scores[\"tf_kinase_restricted\"].std(axis=1),\n",
    "    \"tf_kinase_full_mse_mean\":mse_scores[\"tf_kinase_full\"].mean(axis=1),\n",
    "    \"tf_kinase_full_mse_std\":mse_scores[\"tf_kinase_full\"].std(axis=1),\n",
    "    \"significant_model_mse_mean\":mse_scores[\"significant_model\"].mean(axis=1),\n",
    "    \"significant_model_mse_std\":mse_scores[\"significant_model\"].std(axis=1),\n",
    "    # mae scores\n",
    "    \"tf_only_mae_mean\":mae_scores[\"tf_only\"].mean(axis=1),\n",
    "    \"tf_only_mae_std\":mae_scores[\"tf_only\"].std(axis=1),\n",
    "    \"tf_kinase_mae_mean\":mae_scores[\"tf_kinase_restricted\"].mean(axis=1),\n",
    "    \"tf_kinase_mae_std\":mae_scores[\"tf_kinase_restricted\"].std(axis=1),\n",
    "    \"tf_kinase_full_mae_mean\":mae_scores[\"tf_kinase_full\"].mean(axis=1),\n",
    "    \"tf_kinase_full_mae_std\":mae_scores[\"tf_kinase_full\"].std(axis=1),\n",
    "    \"significant_model_mae_mean\":mae_scores[\"significant_model\"].mean(axis=1),\n",
    "    \"significant_model_mae_std\":mae_scores[\"significant_model\"].std(axis=1),\n",
    "    # Median absolute error scores\n",
    "    \"tf_only_median_ae_mean\":median_ae_scores[\"tf_only\"].mean(axis=1),\n",
    "    \"tf_only_median_ae_std\":median_ae_scores[\"tf_only\"].std(axis=1),\n",
    "    \"tf_kinase_median_ae_mean\":median_ae_scores[\"tf_kinase_restricted\"].mean(axis=1),\n",
    "    \"tf_kinase_median_ae_std\":median_ae_scores[\"tf_kinase_restricted\"].std(axis=1),\n",
    "    \"tf_kinase_full_median_ae_mean\":median_ae_scores[\"tf_kinase_full\"].mean(axis=1),\n",
    "    \"tf_kinase_full_median_ae_std\":median_ae_scores[\"tf_kinase_full\"].std(axis=1),\n",
    "    \"significant_model_median_ae_mean\":median_ae_scores[\"significant_model\"].mean(axis=1),\n",
    "    \"significant_model_median_ae_std\":median_ae_scores[\"significant_model\"].std(axis=1),\n",
    "    # R2 scores\n",
    "    \"tf_only_r2_mean\":r2_scores[\"tf_only\"].mean(axis=1),\n",
    "    \"tf_only_r2_std\":r2_scores[\"tf_only\"].std(axis=1),\n",
    "    \"tf_kinase_r2_mean\":r2_scores[\"tf_kinase_restricted\"].mean(axis=1),\n",
    "    \"tf_kinase_r2_std\":r2_scores[\"tf_kinase_restricted\"].std(axis=1),\n",
    "    \"tf_kinase_full_r2_mean\":r2_scores[\"tf_kinase_full\"].mean(axis=1),\n",
    "    \"tf_kinase_full_r2_std\":r2_scores[\"tf_kinase_full\"].std(axis=1),\n",
    "    \"significant_model_r2_mean\":r2_scores[\"significant_model\"].mean(axis=1),\n",
    "    \"significant_model_r2_std\":r2_scores[\"significant_model\"].std(axis=1),\n",
    "    # Decision function classification metrics\n",
    "    \"significant_model_roc_auc_mean\":roc_auc_scores[\"significant_model\"].mean(axis=1),\n",
    "    \"significant_model_roc_auc_std\":roc_auc_scores[\"significant_model\"].std(axis=1),\n",
    "    # Label classification metrics\n",
    "    \"significant_model_accuracy_mean\":accuracy_scores[\"significant_model\"].mean(axis=1),\n",
    "    \"significant_model_accuracy_std\":accuracy_scores[\"significant_model\"].std(axis=1),\n",
    "    \"significant_model_precision_mean\":precision_scores[\"significant_model\"].mean(axis=1),\n",
    "    \"significant_model_precision_std\":precision_scores[\"significant_model\"].std(axis=1),\n",
    "    \"significant_model_f1_mean\":f_scores[\"significant_model\"].mean(axis=1),\n",
    "    \"significant_model_f1_std\":f_scores[\"significant_model\"].std(axis=1),\n",
    "    \"significant_model_balanced_accuracy_mean\":balanced_accuracy_scores[\"significant_model\"].mean(axis=1),\n",
    "    \"significant_model_balanced_accuracy_std\":balanced_accuracy_scores[\"significant_model\"].std(axis=1),\n",
    "}\n",
    "score_summary_df = pd.DataFrame(score_summary_dict)\n",
    "score_summary_df.to_csv(os.path.join(cv_directory, \"score_summary.csv\"))\n",
    "overall_scores.to_csv(os.path.join(cv_directory, \"overall_scores.csv\"))"
   ],
   "metadata": {
    "collapsed": false,
    "pycharm": {
     "name": "#%%\n"
    }
   }
  },
  {
   "cell_type": "markdown",
   "source": [
    "## Fit Model with Optimum Hyperparameters"
   ],
   "metadata": {
    "collapsed": false,
    "pycharm": {
     "name": "#%% md\n"
    }
   }
  },
  {
   "cell_type": "code",
   "execution_count": null,
   "outputs": [],
   "source": [
    "model.fit(dev, significance_level=0.05, multi_comparison_method=\"bh\", false_discovery_rate=0.05,regularized=True,\n",
    "          intercept=True,verbose=True, alpha = opt_alpha, L1_wt = opt_L1_wt)"
   ],
   "metadata": {
    "collapsed": false,
    "pycharm": {
     "name": "#%%\n"
    }
   }
  },
  {
   "cell_type": "markdown",
   "source": [
    "## Combine associations from the Model with Essentiality information"
   ],
   "metadata": {
    "collapsed": false,
    "pycharm": {
     "name": "#%% md\n"
    }
   }
  },
  {
   "cell_type": "code",
   "execution_count": null,
   "outputs": [],
   "source": [
    "# Read in Essentiality Dataframe\n",
    "# from Barbara Bosch, Michael A. DeJesus, Nicholas C. Poulton, Wenzhu Zhang, Curtis A. Engelhart, Anisha Zaveri, Sophie Lavalette,\n",
    "# Nadine Ruecker, Carolina Trujillo, Joshua B. Wallach, Shuqi Li, Sabine Ehrt, Brian T. Chait, Dirk Schnappinger, Jeremy M. Rock,\n",
    "# Genome-wide gene expression tuning reveals diverse vulnerabilities of M. tuberculosis, Cell, Volume 184, Issue 17, 2021,\n",
    "# Pages 4579-4592.e24, ISSN 0092-8674, https://doi.org/10.1016/j.cell.2021.06.033. (https://www.sciencedirect.com/science/article/pii/S0092867421008242)\n",
    "essentiality_df = pd.read_excel(os.path.join(\"..\",\"data\",\"Vulnerability_Index.xlsx\"),\n",
    "                             sheet_name=\"(1) Mtb H37Rv\",\n",
    "                             header=0)[[\"locus_tag\",\"name\",\"tnseq_ess\",\"crispr_ess\",\"Vulnerability Index\"]]\n",
    " # Rename the locus tag to Rv.. form\n",
    "essentiality_df[\"locus_tag\"] = essentiality_df[\"locus_tag\"].apply(lambda x: x.replace(\"RVBD\",\"Rv\"))\n",
    "essentiality_df[\"name\"] = essentiality_df[\"name\"].apply(lambda x: x.replace(\"RVBD\",\"Rv\"))\n",
    "# Rename locus_tag column to gene to match with associations dataframe\n",
    "essentiality_df = essentiality_df.rename({\"locus_tag\":\"gene\"}, axis=1)\n",
    "# Convert \"gene\" to be type string\n",
    "essentiality_df[\"gene\"] = essentiality_df[\"gene\"].astype(\"string\")"
   ],
   "metadata": {
    "collapsed": false,
    "pycharm": {
     "name": "#%%\n"
    }
   }
  },
  {
   "cell_type": "code",
   "execution_count": null,
   "outputs": [],
   "source": [
    "# Get associations dataframe from the fitted model\n",
    "associations_df = model.create_associations_information_df()\n",
    "# Convert \"gene\" column to be of type string\n",
    "associations_df[\"gene\"] = associations_df[\"gene\"].astype(\"string\")\n",
    "# Merge the associations with the essentiality information\n",
    "associations_df = associations_df.merge(essentiality_df, on=\"gene\",how=\"left\")"
   ],
   "metadata": {
    "collapsed": false,
    "pycharm": {
     "name": "#%%\n"
    }
   }
  },
  {
   "cell_type": "code",
   "execution_count": null,
   "outputs": [],
   "source": [
    "# Save the dataframe\n",
    "associations_df.to_csv(os.path.join(\"..\",\"output\",\"associations.csv\"))"
   ],
   "metadata": {
    "collapsed": false,
    "pycharm": {
     "name": "#%%\n"
    }
   }
  },
  {
   "cell_type": "markdown",
   "source": [
    "## Analyze Model"
   ],
   "metadata": {
    "collapsed": false,
    "pycharm": {
     "name": "#%% md\n"
    }
   }
  },
  {
   "cell_type": "code",
   "execution_count": null,
   "outputs": [],
   "source": [
    "# score the model against the test set from the original compendia\n",
    "test_set_scores = model.score_full(kinase_expression=test[kinase_list], tf_expression=test[tf_list], gene_expression=test[targeted_gene_list])\n",
    "test_set_scores.to_csv(os.path.join(\"..\",\"output\",\"test_set_scores.csv\"))\n",
    "# score the model against the independent kinase seq data\n",
    "kinase_seq_scores = model.score_full(kinase_expression=kinase_rna_seq[kinase_list],\n",
    "                                     tf_expression=kinase_rna_seq[tf_list],\n",
    "                                     gene_expression=kinase_rna_seq[targeted_gene_list])\n",
    "kinase_seq_scores.to_csv(os.path.join(\"..\",\"output\",\"kinase_seq_scores.csv\"))"
   ],
   "metadata": {
    "collapsed": false,
    "pycharm": {
     "name": "#%%\n"
    }
   }
  },
  {
   "cell_type": "markdown",
   "source": [
    "## Visualizations"
   ],
   "metadata": {
    "collapsed": false,
    "pycharm": {
     "name": "#%% md\n"
    }
   }
  },
  {
   "cell_type": "code",
   "execution_count": null,
   "outputs": [],
   "source": [
    "essentiality_df = essentiality_df.set_index(\"gene\")\n",
    "network = model.create_network_from_associations(essentiality_df=essentiality_df, essentiality_col=\"crispr_ess\")\n",
    "with (os.path.join(\"..\",\"data\",\"output\",\"associations_network.json\"), \"w\") as f:\n",
    "    json.dump(nx.node_link_data(network), f)\n",
    "model.create_cytoscape_from_associations(essentiality_df=essentiality_df, essentiality_col=\"crispr_ess\",\n",
    "                                         outfile=os.path.join(\"..\",\"data\", \"output\",\"associations_network.cyjs\"))"
   ],
   "metadata": {
    "collapsed": false,
    "pycharm": {
     "name": "#%%\n"
    }
   }
  },
  {
   "cell_type": "code",
   "execution_count": null,
   "outputs": [],
   "source": [],
   "metadata": {
    "collapsed": false,
    "pycharm": {
     "name": "#%%\n"
    }
   }
  }
 ],
 "metadata": {
  "kernelspec": {
   "display_name": "Python 3",
   "language": "python",
   "name": "python3"
  },
  "language_info": {
   "codemirror_mode": {
    "name": "ipython",
    "version": 2
   },
   "file_extension": ".py",
   "mimetype": "text/x-python",
   "name": "python",
   "nbconvert_exporter": "python",
   "pygments_lexer": "ipython2",
   "version": "2.7.6"
  }
 },
 "nbformat": 4,
 "nbformat_minor": 0
}